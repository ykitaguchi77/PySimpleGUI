{
 "cells": [
  {
   "cell_type": "code",
   "execution_count": 1,
   "metadata": {},
   "outputs": [
    {
     "name": "stderr",
     "output_type": "stream",
     "text": [
      "Fontconfig warning: ignoring UTF-8: not a valid region tag\n"
     ]
    }
   ],
   "source": [
    "import PySimpleGUI as sg\n",
    "\n",
    "# ウィンドウのテーマ\n",
    "sg.theme('SandyBeach')\n",
    "\n",
    "# 位置\n",
    "left = 20\n",
    "right = 20\n",
    "top = 50\n",
    "bottom = 20\n",
    "\n",
    "# ウィンドウのレイアウト\n",
    "layout = [\n",
    "    [sg.InputText(default_text='デフォルト値', key='txt1',\n",
    "                  pad=((left, right), (top, bottom)))],\n",
    "    [sg.Button('ボタン', key='btn1', pad=((left, right), (top, bottom)))]\n",
    "]\n",
    "\n",
    "# ウィンドウオブジェクトの作成\n",
    "window = sg.Window('title', layout, size=(300, 300))\n",
    "\n",
    "# イベントのループ\n",
    "while True:\n",
    "    # イベントの読み込み\n",
    "    event, values = window.read()\n",
    "    # ウィンドウの×ボタンクリックで終了\n",
    "    if event == sg.WIN_CLOSED:\n",
    "        break\n",
    "    elif event == 'btn1':\n",
    "        window['txt1']. Update('ボタンがクリックされました')\n",
    "# ウィンドウ終了処理\n",
    "window.close()\n"
   ]
  }
 ],
 "metadata": {
  "interpreter": {
   "hash": "f96628ad6d4d02863c6d6d620a49eed9291de4ced64a58af0ec724ef6a43bbcb"
  },
  "kernelspec": {
   "display_name": "Python 3.7.5 64-bit ('shims')",
   "language": "python",
   "name": "python3"
  },
  "language_info": {
   "codemirror_mode": {
    "name": "ipython",
    "version": 3
   },
   "file_extension": ".py",
   "mimetype": "text/x-python",
   "name": "python",
   "nbconvert_exporter": "python",
   "pygments_lexer": "ipython3",
   "version": "3.9.11"
  },
  "orig_nbformat": 4
 },
 "nbformat": 4,
 "nbformat_minor": 2
}
