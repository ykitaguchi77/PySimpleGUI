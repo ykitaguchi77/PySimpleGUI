{
 "cells": [
  {
   "cell_type": "markdown",
   "metadata": {},
   "source": [
    "#PySimpleGUI 導入編  \n",
    "https://qiita.com/ku_a_i/items/20004800adc78fa94a0b\n"
   ]
  },
  {
   "cell_type": "code",
   "execution_count": 2,
   "metadata": {},
   "outputs": [
    {
     "name": "stderr",
     "output_type": "stream",
     "text": [
      "Fontconfig warning: ignoring UTF-8: not a valid region tag\n"
     ]
    },
    {
     "data": {
      "text/plain": [
       "'OK'"
      ]
     },
     "execution_count": 2,
     "metadata": {},
     "output_type": "execute_result"
    }
   ],
   "source": [
    "import PySimpleGUI as sg\n",
    "\n",
    "filename = sg.popup_get_file('処理したいファイルを入力してください')\n",
    "sg.popup('入力した', filename)\n"
   ]
  },
  {
   "cell_type": "code",
   "execution_count": 6,
   "metadata": {},
   "outputs": [],
   "source": [
    "\"\"\"テーマカラーにどんなものがあるか？を目視で確認するサンプルコード\"\"\"\n",
    "\n",
    "import PySimpleGUI as sg\n",
    "\n",
    "sg.theme('Dark Brown')\n",
    "\n",
    "#レイアウトの設定\n",
    "layout = [[sg.Text('Theme Browser')],\n",
    "          [sg.Text('Click a Theme color to see demo window')],\n",
    "          [sg.Listbox(values=sg.theme_list(), size=(20, 12),\n",
    "                      key='-LIST-', enable_events=True)],\n",
    "          [sg.Button('Exit')]]\n",
    "\n",
    "#windowを作成\n",
    "window = sg.Window('Theme Browser', layout)\n",
    "\n",
    "while True:  # Event Loop\n",
    "    event, values = window.read()\n",
    "    if event in (sg.WIN_CLOSED, 'Exit'):\n",
    "        break\n",
    "    sg.theme(values['-LIST-'][0])\n",
    "    sg.popup_get_text('This is {}'.format(values['-LIST-'][0])) #見本を表示\n",
    "\n",
    "window.close()\n"
   ]
  }
 ],
 "metadata": {
  "interpreter": {
   "hash": "f96628ad6d4d02863c6d6d620a49eed9291de4ced64a58af0ec724ef6a43bbcb"
  },
  "kernelspec": {
   "display_name": "Python 3.7.5 64-bit ('shims')",
   "language": "python",
   "name": "python3"
  },
  "language_info": {
   "codemirror_mode": {
    "name": "ipython",
    "version": 3
   },
   "file_extension": ".py",
   "mimetype": "text/x-python",
   "name": "python",
   "nbconvert_exporter": "python",
   "pygments_lexer": "ipython3",
   "version": "3.9.11"
  },
  "orig_nbformat": 4
 },
 "nbformat": 4,
 "nbformat_minor": 2
}
